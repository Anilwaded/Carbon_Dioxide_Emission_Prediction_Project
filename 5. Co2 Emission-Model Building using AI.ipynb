{
 "cells": [
  {
   "cell_type": "markdown",
   "id": "1e5db16d",
   "metadata": {},
   "source": [
    "# Co2 Emission"
   ]
  },
  {
   "cell_type": "markdown",
   "id": "c6aa6c18",
   "metadata": {},
   "source": [
    "## Model Building using ANN"
   ]
  },
  {
   "cell_type": "markdown",
   "id": "c8f8924a",
   "metadata": {},
   "source": [
    "## 1. Import Necessary Libraries"
   ]
  },
  {
   "cell_type": "code",
   "execution_count": 4,
   "id": "73963748",
   "metadata": {},
   "outputs": [],
   "source": [
    "import pandas as pd\n",
    "import numpy as np\n",
    "\n",
    "import matplotlib.pyplot as plt\n",
    "\n",
    "from sklearn.preprocessing import StandardScaler, OrdinalEncoder\n",
    "from sklearn.model_selection import train_test_split\n",
    "\n",
    "from tensorflow import keras\n",
    "from keras.models import Sequential\n",
    "from keras.layers import Dense, Dropout\n",
    "from tensorflow.keras.models import load_model"
   ]
  },
  {
   "cell_type": "markdown",
   "id": "02069fd5",
   "metadata": {},
   "source": [
    "## 2. Load the Data"
   ]
  },
  {
   "cell_type": "code",
   "execution_count": 5,
   "id": "2b3d3702",
   "metadata": {},
   "outputs": [
    {
     "data": {
      "text/html": [
       "<div>\n",
       "<style scoped>\n",
       "    .dataframe tbody tr th:only-of-type {\n",
       "        vertical-align: middle;\n",
       "    }\n",
       "\n",
       "    .dataframe tbody tr th {\n",
       "        vertical-align: top;\n",
       "    }\n",
       "\n",
       "    .dataframe thead th {\n",
       "        text-align: right;\n",
       "    }\n",
       "</style>\n",
       "<table border=\"1\" class=\"dataframe\">\n",
       "  <thead>\n",
       "    <tr style=\"text-align: right;\">\n",
       "      <th></th>\n",
       "      <th>vehicle_class</th>\n",
       "      <th>engine_size</th>\n",
       "      <th>cylinders</th>\n",
       "      <th>transmission</th>\n",
       "      <th>fuel_type</th>\n",
       "      <th>fuel_consumption_comb</th>\n",
       "      <th>co2_emissions</th>\n",
       "    </tr>\n",
       "  </thead>\n",
       "  <tbody>\n",
       "    <tr>\n",
       "      <th>0</th>\n",
       "      <td>compact</td>\n",
       "      <td>2.0</td>\n",
       "      <td>4</td>\n",
       "      <td>Automatic with select shift</td>\n",
       "      <td>Premium gasoline</td>\n",
       "      <td>8.5</td>\n",
       "      <td>196.0</td>\n",
       "    </tr>\n",
       "    <tr>\n",
       "      <th>1</th>\n",
       "      <td>compact</td>\n",
       "      <td>2.4</td>\n",
       "      <td>4</td>\n",
       "      <td>Manual</td>\n",
       "      <td>Premium gasoline</td>\n",
       "      <td>9.6</td>\n",
       "      <td>221.0</td>\n",
       "    </tr>\n",
       "    <tr>\n",
       "      <th>2</th>\n",
       "      <td>compact</td>\n",
       "      <td>1.5</td>\n",
       "      <td>4</td>\n",
       "      <td>Continuously variable</td>\n",
       "      <td>Premium gasoline</td>\n",
       "      <td>5.9</td>\n",
       "      <td>136.0</td>\n",
       "    </tr>\n",
       "    <tr>\n",
       "      <th>3</th>\n",
       "      <td>suv - small</td>\n",
       "      <td>3.5</td>\n",
       "      <td>6</td>\n",
       "      <td>Automatic with select shift</td>\n",
       "      <td>Premium gasoline</td>\n",
       "      <td>11.1</td>\n",
       "      <td>255.0</td>\n",
       "    </tr>\n",
       "    <tr>\n",
       "      <th>4</th>\n",
       "      <td>suv - small</td>\n",
       "      <td>3.5</td>\n",
       "      <td>6</td>\n",
       "      <td>Automatic with select shift</td>\n",
       "      <td>Premium gasoline</td>\n",
       "      <td>10.6</td>\n",
       "      <td>244.0</td>\n",
       "    </tr>\n",
       "  </tbody>\n",
       "</table>\n",
       "</div>"
      ],
      "text/plain": [
       "  vehicle_class  engine_size  cylinders                 transmission  \\\n",
       "0       compact          2.0          4  Automatic with select shift   \n",
       "1       compact          2.4          4                       Manual   \n",
       "2       compact          1.5          4        Continuously variable   \n",
       "3   suv - small          3.5          6  Automatic with select shift   \n",
       "4   suv - small          3.5          6  Automatic with select shift   \n",
       "\n",
       "          fuel_type  fuel_consumption_comb  co2_emissions  \n",
       "0  Premium gasoline                    8.5          196.0  \n",
       "1  Premium gasoline                    9.6          221.0  \n",
       "2  Premium gasoline                    5.9          136.0  \n",
       "3  Premium gasoline                   11.1          255.0  \n",
       "4  Premium gasoline                   10.6          244.0  "
      ]
     },
     "execution_count": 5,
     "metadata": {},
     "output_type": "execute_result"
    }
   ],
   "source": [
    "emission_data=pd.read_csv('Final_Emission_Data.csv')\n",
    "emission_data.head()"
   ]
  },
  {
   "cell_type": "code",
   "execution_count": 6,
   "id": "85f06415",
   "metadata": {},
   "outputs": [
    {
     "data": {
      "text/html": [
       "<div>\n",
       "<style scoped>\n",
       "    .dataframe tbody tr th:only-of-type {\n",
       "        vertical-align: middle;\n",
       "    }\n",
       "\n",
       "    .dataframe tbody tr th {\n",
       "        vertical-align: top;\n",
       "    }\n",
       "\n",
       "    .dataframe thead th {\n",
       "        text-align: right;\n",
       "    }\n",
       "</style>\n",
       "<table border=\"1\" class=\"dataframe\">\n",
       "  <thead>\n",
       "    <tr style=\"text-align: right;\">\n",
       "      <th></th>\n",
       "      <th>vehicle_class</th>\n",
       "      <th>engine_size</th>\n",
       "      <th>cylinders</th>\n",
       "      <th>transmission</th>\n",
       "      <th>fuel_type</th>\n",
       "      <th>fuel_consumption_comb</th>\n",
       "      <th>co2_emissions</th>\n",
       "    </tr>\n",
       "  </thead>\n",
       "  <tbody>\n",
       "    <tr>\n",
       "      <th>0</th>\n",
       "      <td>0.0</td>\n",
       "      <td>2.0</td>\n",
       "      <td>4</td>\n",
       "      <td>2.0</td>\n",
       "      <td>3.0</td>\n",
       "      <td>8.5</td>\n",
       "      <td>196.0</td>\n",
       "    </tr>\n",
       "    <tr>\n",
       "      <th>1</th>\n",
       "      <td>0.0</td>\n",
       "      <td>2.4</td>\n",
       "      <td>4</td>\n",
       "      <td>4.0</td>\n",
       "      <td>3.0</td>\n",
       "      <td>9.6</td>\n",
       "      <td>221.0</td>\n",
       "    </tr>\n",
       "    <tr>\n",
       "      <th>2</th>\n",
       "      <td>0.0</td>\n",
       "      <td>1.5</td>\n",
       "      <td>4</td>\n",
       "      <td>3.0</td>\n",
       "      <td>3.0</td>\n",
       "      <td>5.9</td>\n",
       "      <td>136.0</td>\n",
       "    </tr>\n",
       "    <tr>\n",
       "      <th>3</th>\n",
       "      <td>11.0</td>\n",
       "      <td>3.5</td>\n",
       "      <td>6</td>\n",
       "      <td>2.0</td>\n",
       "      <td>3.0</td>\n",
       "      <td>11.1</td>\n",
       "      <td>255.0</td>\n",
       "    </tr>\n",
       "    <tr>\n",
       "      <th>4</th>\n",
       "      <td>11.0</td>\n",
       "      <td>3.5</td>\n",
       "      <td>6</td>\n",
       "      <td>2.0</td>\n",
       "      <td>3.0</td>\n",
       "      <td>10.6</td>\n",
       "      <td>244.0</td>\n",
       "    </tr>\n",
       "  </tbody>\n",
       "</table>\n",
       "</div>"
      ],
      "text/plain": [
       "   vehicle_class  engine_size  cylinders  transmission  fuel_type  \\\n",
       "0            0.0          2.0          4           2.0        3.0   \n",
       "1            0.0          2.4          4           4.0        3.0   \n",
       "2            0.0          1.5          4           3.0        3.0   \n",
       "3           11.0          3.5          6           2.0        3.0   \n",
       "4           11.0          3.5          6           2.0        3.0   \n",
       "\n",
       "   fuel_consumption_comb  co2_emissions  \n",
       "0                    8.5          196.0  \n",
       "1                    9.6          221.0  \n",
       "2                    5.9          136.0  \n",
       "3                   11.1          255.0  \n",
       "4                   10.6          244.0  "
      ]
     },
     "execution_count": 6,
     "metadata": {},
     "output_type": "execute_result"
    }
   ],
   "source": [
    "# Converting Categorical variables to ordinal\n",
    "oc = OrdinalEncoder()\n",
    "cols = ['vehicle_class','transmission','fuel_type']\n",
    "emission_data[cols] = oc.fit_transform(emission_data[cols])\n",
    "emission_data.head()"
   ]
  },
  {
   "cell_type": "markdown",
   "id": "e76e832e",
   "metadata": {},
   "source": [
    "## 3. Model Building using ANN"
   ]
  },
  {
   "cell_type": "code",
   "execution_count": 7,
   "id": "58755814",
   "metadata": {},
   "outputs": [],
   "source": [
    "X=emission_data.drop('co2_emissions', axis=1)\n",
    "y=emission_data[['co2_emissions']]"
   ]
  },
  {
   "cell_type": "code",
   "execution_count": 8,
   "id": "da1b036f",
   "metadata": {},
   "outputs": [
    {
     "data": {
      "text/plain": [
       "((5981, 6), (5981, 1))"
      ]
     },
     "execution_count": 8,
     "metadata": {},
     "output_type": "execute_result"
    }
   ],
   "source": [
    "X.shape, y.shape"
   ]
  },
  {
   "cell_type": "code",
   "execution_count": 9,
   "id": "a2f4b726",
   "metadata": {},
   "outputs": [],
   "source": [
    "X_train, X_test, y_train, y_test=train_test_split(X,y,test_size=0.2, random_state=True)"
   ]
  },
  {
   "cell_type": "code",
   "execution_count": 10,
   "id": "7b160718",
   "metadata": {},
   "outputs": [
    {
     "data": {
      "text/plain": [
       "((4784, 6), (4784, 1))"
      ]
     },
     "execution_count": 10,
     "metadata": {},
     "output_type": "execute_result"
    }
   ],
   "source": [
    "X_train.shape, y_train.shape"
   ]
  },
  {
   "cell_type": "code",
   "execution_count": 11,
   "id": "2e7ffc30",
   "metadata": {},
   "outputs": [
    {
     "data": {
      "text/plain": [
       "((1197, 6), (1197, 1))"
      ]
     },
     "execution_count": 11,
     "metadata": {},
     "output_type": "execute_result"
    }
   ],
   "source": [
    "X_test.shape, y_test.shape"
   ]
  },
  {
   "cell_type": "markdown",
   "id": "7c8e42a3",
   "metadata": {},
   "source": [
    "### 3.1 Building Model Architecture"
   ]
  },
  {
   "cell_type": "code",
   "execution_count": 14,
   "id": "b38d3c5a",
   "metadata": {},
   "outputs": [
    {
     "name": "stdout",
     "output_type": "stream",
     "text": [
      "Model: \"sequential_1\"\n",
      "_________________________________________________________________\n",
      " Layer (type)                Output Shape              Param #   \n",
      "=================================================================\n",
      " dense_4 (Dense)             (None, 128)               896       \n",
      "                                                                 \n",
      " dropout_3 (Dropout)         (None, 128)               0         \n",
      "                                                                 \n",
      " dense_5 (Dense)             (None, 64)                8256      \n",
      "                                                                 \n",
      " dropout_4 (Dropout)         (None, 64)                0         \n",
      "                                                                 \n",
      " dense_6 (Dense)             (None, 32)                2080      \n",
      "                                                                 \n",
      " dropout_5 (Dropout)         (None, 32)                0         \n",
      "                                                                 \n",
      " dense_7 (Dense)             (None, 1)                 33        \n",
      "                                                                 \n",
      "=================================================================\n",
      "Total params: 11,265\n",
      "Trainable params: 11,265\n",
      "Non-trainable params: 0\n",
      "_________________________________________________________________\n"
     ]
    }
   ],
   "source": [
    "model=Sequential()\n",
    "model.add(Dense(units=128, input_dim=6,activation='relu'))\n",
    "model.add(Dropout(0.25))\n",
    "model.add(Dense(units=64,activation='relu'))\n",
    "model.add(Dropout(0.25))\n",
    "model.add(Dense(units=32,activation='relu'))\n",
    "model.add(Dropout(0.25))\n",
    "model.add(Dense(units=1, activation='linear'))\n",
    "model.summary()"
   ]
  },
  {
   "cell_type": "markdown",
   "id": "abb31482",
   "metadata": {},
   "source": [
    "### 3.2 Model Compilation"
   ]
  },
  {
   "cell_type": "code",
   "execution_count": 15,
   "id": "e9bb430e",
   "metadata": {},
   "outputs": [],
   "source": [
    "model.compile(optimizer='rmsprop',loss='mean_squared_error',metrics='mse')"
   ]
  },
  {
   "cell_type": "markdown",
   "id": "b630fe3d",
   "metadata": {},
   "source": [
    "## 4. Model Training"
   ]
  },
  {
   "cell_type": "code",
   "execution_count": 18,
   "id": "3f176dd9",
   "metadata": {},
   "outputs": [
    {
     "name": "stdout",
     "output_type": "stream",
     "text": [
      "Epoch 1/250\n",
      "479/479 [==============================] - 1s 2ms/step - loss: 1490.7477 - mse: 1490.7477 - val_loss: 678.9547 - val_mse: 678.9547\n",
      "Epoch 2/250\n",
      "479/479 [==============================] - 2s 4ms/step - loss: 1447.4731 - mse: 1447.4731 - val_loss: 113.0772 - val_mse: 113.0772\n",
      "Epoch 3/250\n",
      "479/479 [==============================] - 1s 3ms/step - loss: 1535.9590 - mse: 1535.9590 - val_loss: 189.8657 - val_mse: 189.8657\n",
      "Epoch 4/250\n",
      "479/479 [==============================] - 1s 3ms/step - loss: 1533.9685 - mse: 1533.9685 - val_loss: 265.7808 - val_mse: 265.7808\n",
      "Epoch 5/250\n",
      "479/479 [==============================] - 1s 3ms/step - loss: 1440.6305 - mse: 1440.6305 - val_loss: 241.1773 - val_mse: 241.1773\n",
      "Epoch 6/250\n",
      "479/479 [==============================] - 1s 2ms/step - loss: 1458.2231 - mse: 1458.2231 - val_loss: 426.2345 - val_mse: 426.2345\n",
      "Epoch 7/250\n",
      "479/479 [==============================] - 1s 2ms/step - loss: 1532.8622 - mse: 1532.8622 - val_loss: 165.5706 - val_mse: 165.5706\n",
      "Epoch 8/250\n",
      "479/479 [==============================] - 1s 2ms/step - loss: 1519.9677 - mse: 1519.9677 - val_loss: 277.6784 - val_mse: 277.6784\n",
      "Epoch 9/250\n",
      "479/479 [==============================] - 1s 2ms/step - loss: 1444.3456 - mse: 1444.3456 - val_loss: 372.1118 - val_mse: 372.1118\n",
      "Epoch 10/250\n",
      "479/479 [==============================] - 1s 2ms/step - loss: 1457.5509 - mse: 1457.5511 - val_loss: 154.8848 - val_mse: 154.8848\n",
      "Epoch 11/250\n",
      "479/479 [==============================] - 1s 2ms/step - loss: 1448.4219 - mse: 1448.4219 - val_loss: 144.6535 - val_mse: 144.6536\n",
      "Epoch 12/250\n",
      "479/479 [==============================] - 1s 2ms/step - loss: 1463.1569 - mse: 1463.1569 - val_loss: 412.8071 - val_mse: 412.8071\n",
      "Epoch 13/250\n",
      "479/479 [==============================] - 1s 2ms/step - loss: 1511.1393 - mse: 1511.1393 - val_loss: 318.2804 - val_mse: 318.2804\n",
      "Epoch 14/250\n",
      "479/479 [==============================] - 1s 2ms/step - loss: 1403.7968 - mse: 1403.7969 - val_loss: 552.4008 - val_mse: 552.4008\n",
      "Epoch 15/250\n",
      "479/479 [==============================] - 1s 2ms/step - loss: 1456.1893 - mse: 1456.1893 - val_loss: 119.3171 - val_mse: 119.3171\n",
      "Epoch 16/250\n",
      "479/479 [==============================] - 1s 2ms/step - loss: 1422.2701 - mse: 1422.2701 - val_loss: 200.6792 - val_mse: 200.6792\n",
      "Epoch 17/250\n",
      "479/479 [==============================] - 1s 2ms/step - loss: 1436.8007 - mse: 1436.8007 - val_loss: 508.5693 - val_mse: 508.5693\n",
      "Epoch 18/250\n",
      "479/479 [==============================] - 1s 3ms/step - loss: 1370.1505 - mse: 1370.1505 - val_loss: 307.6506 - val_mse: 307.6506\n",
      "Epoch 19/250\n",
      "479/479 [==============================] - 1s 2ms/step - loss: 1442.6891 - mse: 1442.6891 - val_loss: 826.6312 - val_mse: 826.6312\n",
      "Epoch 20/250\n",
      "479/479 [==============================] - 1s 2ms/step - loss: 1503.9568 - mse: 1503.9568 - val_loss: 238.2439 - val_mse: 238.2439\n",
      "Epoch 21/250\n",
      "479/479 [==============================] - 1s 2ms/step - loss: 1441.6493 - mse: 1441.6493 - val_loss: 204.6584 - val_mse: 204.6584\n",
      "Epoch 22/250\n",
      "479/479 [==============================] - 1s 2ms/step - loss: 1423.3474 - mse: 1423.3474 - val_loss: 169.3435 - val_mse: 169.3435\n",
      "Epoch 23/250\n",
      "479/479 [==============================] - 1s 3ms/step - loss: 1377.0117 - mse: 1377.0117 - val_loss: 386.5749 - val_mse: 386.5749\n",
      "Epoch 24/250\n",
      "479/479 [==============================] - 1s 3ms/step - loss: 1354.4633 - mse: 1354.4631 - val_loss: 103.2360 - val_mse: 103.2360\n",
      "Epoch 25/250\n",
      "479/479 [==============================] - 1s 2ms/step - loss: 1399.1289 - mse: 1399.1289 - val_loss: 161.7213 - val_mse: 161.7213\n",
      "Epoch 26/250\n",
      "479/479 [==============================] - 1s 2ms/step - loss: 1392.1532 - mse: 1392.1532 - val_loss: 114.4927 - val_mse: 114.4927\n",
      "Epoch 27/250\n",
      "479/479 [==============================] - 1s 2ms/step - loss: 1429.4436 - mse: 1429.4435 - val_loss: 112.3052 - val_mse: 112.3052\n",
      "Epoch 28/250\n",
      "479/479 [==============================] - 1s 2ms/step - loss: 1452.9296 - mse: 1452.9296 - val_loss: 311.7651 - val_mse: 311.7651\n",
      "Epoch 29/250\n",
      "479/479 [==============================] - 1s 2ms/step - loss: 1382.9183 - mse: 1382.9183 - val_loss: 115.3599 - val_mse: 115.3599\n",
      "Epoch 30/250\n",
      "479/479 [==============================] - 1s 2ms/step - loss: 1381.5063 - mse: 1381.5063 - val_loss: 386.8570 - val_mse: 386.8570\n",
      "Epoch 31/250\n",
      "479/479 [==============================] - 1s 2ms/step - loss: 1371.9633 - mse: 1371.9633 - val_loss: 313.4961 - val_mse: 313.4961\n",
      "Epoch 32/250\n",
      "479/479 [==============================] - 1s 2ms/step - loss: 1353.3092 - mse: 1353.3092 - val_loss: 173.9947 - val_mse: 173.9947\n",
      "Epoch 33/250\n",
      "479/479 [==============================] - 1s 2ms/step - loss: 1350.2388 - mse: 1350.2388 - val_loss: 274.6930 - val_mse: 274.6930\n",
      "Epoch 34/250\n",
      "479/479 [==============================] - 1s 2ms/step - loss: 1290.6733 - mse: 1290.6733 - val_loss: 195.4261 - val_mse: 195.4261\n",
      "Epoch 35/250\n",
      "479/479 [==============================] - 1s 2ms/step - loss: 1348.8009 - mse: 1348.8009 - val_loss: 159.6172 - val_mse: 159.6172\n",
      "Epoch 36/250\n",
      "479/479 [==============================] - 1s 2ms/step - loss: 1336.3647 - mse: 1336.3646 - val_loss: 227.8779 - val_mse: 227.8779\n",
      "Epoch 37/250\n",
      "479/479 [==============================] - 1s 2ms/step - loss: 1357.9427 - mse: 1357.9427 - val_loss: 147.0347 - val_mse: 147.0347\n",
      "Epoch 38/250\n",
      "479/479 [==============================] - 1s 3ms/step - loss: 1348.4158 - mse: 1348.4158 - val_loss: 130.8023 - val_mse: 130.8023\n",
      "Epoch 39/250\n",
      "479/479 [==============================] - 1s 3ms/step - loss: 1362.7953 - mse: 1362.7953 - val_loss: 174.8681 - val_mse: 174.8681\n",
      "Epoch 40/250\n",
      "479/479 [==============================] - 1s 2ms/step - loss: 1319.8746 - mse: 1319.8746 - val_loss: 147.1967 - val_mse: 147.1967\n",
      "Epoch 41/250\n",
      "479/479 [==============================] - 1s 1ms/step - loss: 1326.0740 - mse: 1326.0740 - val_loss: 193.8570 - val_mse: 193.8570\n",
      "Epoch 42/250\n",
      "479/479 [==============================] - 1s 2ms/step - loss: 1333.0728 - mse: 1333.0729 - val_loss: 154.7544 - val_mse: 154.7544\n",
      "Epoch 43/250\n",
      "479/479 [==============================] - 1s 2ms/step - loss: 1331.1738 - mse: 1331.1738 - val_loss: 441.7401 - val_mse: 441.7401\n",
      "Epoch 44/250\n",
      "479/479 [==============================] - 1s 2ms/step - loss: 1400.8387 - mse: 1400.8387 - val_loss: 160.3020 - val_mse: 160.3020\n",
      "Epoch 45/250\n",
      "479/479 [==============================] - 2s 4ms/step - loss: 1309.5393 - mse: 1309.5393 - val_loss: 227.5281 - val_mse: 227.5281\n",
      "Epoch 46/250\n",
      "479/479 [==============================] - 2s 4ms/step - loss: 1326.8073 - mse: 1326.8073 - val_loss: 550.5436 - val_mse: 550.5436\n",
      "Epoch 47/250\n",
      "479/479 [==============================] - 2s 4ms/step - loss: 1358.6895 - mse: 1358.6895 - val_loss: 218.7383 - val_mse: 218.7383\n",
      "Epoch 48/250\n",
      "479/479 [==============================] - 2s 4ms/step - loss: 1350.4204 - mse: 1350.4202 - val_loss: 255.9197 - val_mse: 255.9197\n",
      "Epoch 49/250\n",
      "479/479 [==============================] - 1s 2ms/step - loss: 1335.0519 - mse: 1335.0519 - val_loss: 477.0707 - val_mse: 477.0707\n",
      "Epoch 50/250\n",
      "479/479 [==============================] - 1s 2ms/step - loss: 1319.2634 - mse: 1319.2634 - val_loss: 106.8406 - val_mse: 106.8406\n",
      "Epoch 51/250\n",
      "479/479 [==============================] - 1s 2ms/step - loss: 1286.6897 - mse: 1286.6897 - val_loss: 124.8022 - val_mse: 124.8022\n",
      "Epoch 52/250\n",
      "479/479 [==============================] - 1s 1ms/step - loss: 1317.4418 - mse: 1317.4418 - val_loss: 175.1660 - val_mse: 175.1660\n",
      "Epoch 53/250\n",
      "479/479 [==============================] - 1s 2ms/step - loss: 1306.1846 - mse: 1306.1846 - val_loss: 213.3135 - val_mse: 213.3136\n",
      "Epoch 54/250\n",
      "479/479 [==============================] - 1s 2ms/step - loss: 1301.5166 - mse: 1301.5166 - val_loss: 104.5544 - val_mse: 104.5544\n",
      "Epoch 55/250\n",
      "479/479 [==============================] - 1s 2ms/step - loss: 1322.8318 - mse: 1322.8318 - val_loss: 430.9138 - val_mse: 430.9138\n",
      "Epoch 56/250\n",
      "479/479 [==============================] - 1s 2ms/step - loss: 1283.7684 - mse: 1283.7684 - val_loss: 194.2311 - val_mse: 194.2311\n",
      "Epoch 57/250\n",
      "479/479 [==============================] - 1s 2ms/step - loss: 1307.6161 - mse: 1307.6161 - val_loss: 208.7286 - val_mse: 208.7286\n"
     ]
    },
    {
     "name": "stdout",
     "output_type": "stream",
     "text": [
      "Epoch 58/250\n",
      "479/479 [==============================] - 1s 2ms/step - loss: 1288.9916 - mse: 1288.9916 - val_loss: 201.5104 - val_mse: 201.5104\n",
      "Epoch 59/250\n",
      "479/479 [==============================] - 1s 2ms/step - loss: 1287.2367 - mse: 1287.2367 - val_loss: 131.7170 - val_mse: 131.7170\n",
      "Epoch 60/250\n",
      "479/479 [==============================] - 1s 2ms/step - loss: 1297.6089 - mse: 1297.6089 - val_loss: 238.8219 - val_mse: 238.8219\n",
      "Epoch 61/250\n",
      "479/479 [==============================] - 1s 1ms/step - loss: 1317.2380 - mse: 1317.2380 - val_loss: 500.8163 - val_mse: 500.8163\n",
      "Epoch 62/250\n",
      "479/479 [==============================] - 1s 2ms/step - loss: 1293.6942 - mse: 1293.6942 - val_loss: 419.1694 - val_mse: 419.1694\n",
      "Epoch 63/250\n",
      "479/479 [==============================] - 1s 2ms/step - loss: 1281.7560 - mse: 1281.7560 - val_loss: 134.3806 - val_mse: 134.3806\n",
      "Epoch 64/250\n",
      "479/479 [==============================] - 1s 2ms/step - loss: 1281.9248 - mse: 1281.9248 - val_loss: 131.7352 - val_mse: 131.7352\n",
      "Epoch 65/250\n",
      "479/479 [==============================] - 1s 1ms/step - loss: 1311.0309 - mse: 1311.0309 - val_loss: 292.7373 - val_mse: 292.7373\n",
      "Epoch 66/250\n",
      "479/479 [==============================] - 1s 2ms/step - loss: 1292.9454 - mse: 1292.9454 - val_loss: 810.9742 - val_mse: 810.9742\n",
      "Epoch 67/250\n",
      "479/479 [==============================] - 1s 2ms/step - loss: 1253.3419 - mse: 1253.3419 - val_loss: 120.4509 - val_mse: 120.4509\n",
      "Epoch 68/250\n",
      "479/479 [==============================] - 1s 2ms/step - loss: 1239.4495 - mse: 1239.4495 - val_loss: 208.5329 - val_mse: 208.5329\n",
      "Epoch 69/250\n",
      "479/479 [==============================] - 1s 2ms/step - loss: 1230.9896 - mse: 1230.9896 - val_loss: 319.8398 - val_mse: 319.8398\n",
      "Epoch 70/250\n",
      "479/479 [==============================] - 1s 2ms/step - loss: 1264.2734 - mse: 1264.2734 - val_loss: 518.1962 - val_mse: 518.1962\n",
      "Epoch 71/250\n",
      "479/479 [==============================] - 1s 2ms/step - loss: 1314.1499 - mse: 1314.1499 - val_loss: 119.2452 - val_mse: 119.2452\n",
      "Epoch 72/250\n",
      "479/479 [==============================] - 1s 2ms/step - loss: 1318.2004 - mse: 1318.2004 - val_loss: 263.8934 - val_mse: 263.8934\n",
      "Epoch 73/250\n",
      "479/479 [==============================] - 1s 2ms/step - loss: 1264.1331 - mse: 1264.1331 - val_loss: 521.5635 - val_mse: 521.5635\n",
      "Epoch 74/250\n",
      "479/479 [==============================] - 1s 2ms/step - loss: 1208.7031 - mse: 1208.7031 - val_loss: 160.2002 - val_mse: 160.2002\n",
      "Epoch 75/250\n",
      "479/479 [==============================] - 1s 1ms/step - loss: 1247.7511 - mse: 1247.7511 - val_loss: 490.3280 - val_mse: 490.3280\n",
      "Epoch 76/250\n",
      "479/479 [==============================] - 1s 2ms/step - loss: 1276.3176 - mse: 1276.3176 - val_loss: 112.9793 - val_mse: 112.9793\n",
      "Epoch 77/250\n",
      "479/479 [==============================] - 1s 2ms/step - loss: 1269.7108 - mse: 1269.7108 - val_loss: 228.0455 - val_mse: 228.0455\n",
      "Epoch 78/250\n",
      "479/479 [==============================] - 1s 2ms/step - loss: 1310.3809 - mse: 1310.3807 - val_loss: 125.5466 - val_mse: 125.5466\n",
      "Epoch 79/250\n",
      "479/479 [==============================] - 1s 2ms/step - loss: 1267.1556 - mse: 1267.1556 - val_loss: 275.5550 - val_mse: 275.5550\n",
      "Epoch 80/250\n",
      "479/479 [==============================] - 1s 2ms/step - loss: 1288.6573 - mse: 1288.6573 - val_loss: 647.9939 - val_mse: 647.9939\n",
      "Epoch 81/250\n",
      "479/479 [==============================] - 1s 1ms/step - loss: 1224.2775 - mse: 1224.2775 - val_loss: 138.7591 - val_mse: 138.7591\n",
      "Epoch 82/250\n",
      "479/479 [==============================] - 1s 2ms/step - loss: 1239.6521 - mse: 1239.6521 - val_loss: 108.4867 - val_mse: 108.4867\n",
      "Epoch 83/250\n",
      "479/479 [==============================] - 1s 1ms/step - loss: 1212.2009 - mse: 1212.2009 - val_loss: 192.1514 - val_mse: 192.1514\n",
      "Epoch 84/250\n",
      "479/479 [==============================] - 1s 2ms/step - loss: 1236.7710 - mse: 1236.7710 - val_loss: 191.5608 - val_mse: 191.5608\n",
      "Epoch 85/250\n",
      "479/479 [==============================] - 1s 2ms/step - loss: 1259.7224 - mse: 1259.7224 - val_loss: 133.4952 - val_mse: 133.4952\n",
      "Epoch 86/250\n",
      "479/479 [==============================] - 1s 2ms/step - loss: 1272.7947 - mse: 1272.7947 - val_loss: 656.6065 - val_mse: 656.6065\n",
      "Epoch 87/250\n",
      "479/479 [==============================] - 1s 2ms/step - loss: 1250.9412 - mse: 1250.9412 - val_loss: 145.9088 - val_mse: 145.9088\n",
      "Epoch 88/250\n",
      "479/479 [==============================] - 1s 2ms/step - loss: 1267.4800 - mse: 1267.4800 - val_loss: 101.1639 - val_mse: 101.1639\n",
      "Epoch 89/250\n",
      "479/479 [==============================] - 1s 2ms/step - loss: 1214.1573 - mse: 1214.1573 - val_loss: 214.4263 - val_mse: 214.4263\n",
      "Epoch 90/250\n",
      "479/479 [==============================] - 1s 2ms/step - loss: 1257.8772 - mse: 1257.8772 - val_loss: 274.9670 - val_mse: 274.9670\n",
      "Epoch 91/250\n",
      "479/479 [==============================] - 1s 2ms/step - loss: 1248.0781 - mse: 1248.0781 - val_loss: 161.1166 - val_mse: 161.1166\n",
      "Epoch 92/250\n",
      "479/479 [==============================] - 1s 2ms/step - loss: 1222.2191 - mse: 1222.2191 - val_loss: 186.3401 - val_mse: 186.3401\n",
      "Epoch 93/250\n",
      "479/479 [==============================] - 1s 2ms/step - loss: 1253.6105 - mse: 1253.6105 - val_loss: 129.7707 - val_mse: 129.7706\n",
      "Epoch 94/250\n",
      "479/479 [==============================] - 1s 2ms/step - loss: 1246.8348 - mse: 1246.8348 - val_loss: 244.6201 - val_mse: 244.6201\n",
      "Epoch 95/250\n",
      "479/479 [==============================] - 1s 2ms/step - loss: 1217.1886 - mse: 1217.1886 - val_loss: 171.7912 - val_mse: 171.7912\n",
      "Epoch 96/250\n",
      "479/479 [==============================] - 1s 2ms/step - loss: 1235.1812 - mse: 1235.1812 - val_loss: 108.8135 - val_mse: 108.8135\n",
      "Epoch 97/250\n",
      "479/479 [==============================] - 1s 2ms/step - loss: 1195.5243 - mse: 1195.5243 - val_loss: 110.9288 - val_mse: 110.9288\n",
      "Epoch 98/250\n",
      "479/479 [==============================] - 1s 2ms/step - loss: 1207.6085 - mse: 1207.6085 - val_loss: 131.0001 - val_mse: 131.0001\n",
      "Epoch 99/250\n",
      "479/479 [==============================] - 1s 2ms/step - loss: 1205.3278 - mse: 1205.3278 - val_loss: 149.2251 - val_mse: 149.2251\n",
      "Epoch 100/250\n",
      "479/479 [==============================] - 1s 2ms/step - loss: 1204.2388 - mse: 1204.2388 - val_loss: 120.3773 - val_mse: 120.3773\n",
      "Epoch 101/250\n",
      "479/479 [==============================] - 1s 2ms/step - loss: 1199.4888 - mse: 1199.4888 - val_loss: 149.0990 - val_mse: 149.0990\n",
      "Epoch 102/250\n",
      "479/479 [==============================] - 1s 2ms/step - loss: 1190.6722 - mse: 1190.6722 - val_loss: 134.0555 - val_mse: 134.0555\n",
      "Epoch 103/250\n",
      "479/479 [==============================] - 1s 2ms/step - loss: 1143.9604 - mse: 1143.9604 - val_loss: 483.6826 - val_mse: 483.6826\n",
      "Epoch 104/250\n",
      "479/479 [==============================] - 1s 2ms/step - loss: 1213.7307 - mse: 1213.7307 - val_loss: 205.6931 - val_mse: 205.6931\n",
      "Epoch 105/250\n",
      "479/479 [==============================] - 1s 2ms/step - loss: 1171.1368 - mse: 1171.1368 - val_loss: 386.9888 - val_mse: 386.9888\n",
      "Epoch 106/250\n",
      "479/479 [==============================] - 1s 2ms/step - loss: 1168.8152 - mse: 1168.8152 - val_loss: 175.3854 - val_mse: 175.3854\n",
      "Epoch 107/250\n",
      "479/479 [==============================] - 1s 2ms/step - loss: 1238.2595 - mse: 1238.2595 - val_loss: 110.6390 - val_mse: 110.6390\n",
      "Epoch 108/250\n",
      "479/479 [==============================] - 1s 2ms/step - loss: 1200.9871 - mse: 1200.9871 - val_loss: 107.8198 - val_mse: 107.8198\n",
      "Epoch 109/250\n",
      "479/479 [==============================] - 1s 2ms/step - loss: 1143.0403 - mse: 1143.0403 - val_loss: 148.1614 - val_mse: 148.1614\n",
      "Epoch 110/250\n",
      "479/479 [==============================] - 1s 2ms/step - loss: 1207.0704 - mse: 1207.0704 - val_loss: 145.9963 - val_mse: 145.9963\n",
      "Epoch 111/250\n",
      "479/479 [==============================] - 1s 2ms/step - loss: 1177.1324 - mse: 1177.1324 - val_loss: 138.0967 - val_mse: 138.0967\n",
      "Epoch 112/250\n",
      "479/479 [==============================] - 1s 2ms/step - loss: 1221.3267 - mse: 1221.3267 - val_loss: 181.7918 - val_mse: 181.7918\n",
      "Epoch 113/250\n",
      "479/479 [==============================] - 1s 2ms/step - loss: 1194.2009 - mse: 1194.2009 - val_loss: 137.6682 - val_mse: 137.6682\n",
      "Epoch 114/250\n",
      "479/479 [==============================] - 2s 3ms/step - loss: 1220.1816 - mse: 1220.1816 - val_loss: 112.9742 - val_mse: 112.9742\n"
     ]
    },
    {
     "name": "stdout",
     "output_type": "stream",
     "text": [
      "Epoch 115/250\n",
      "479/479 [==============================] - 1s 2ms/step - loss: 1149.3607 - mse: 1149.3607 - val_loss: 208.3367 - val_mse: 208.3367\n",
      "Epoch 116/250\n",
      "479/479 [==============================] - 1s 2ms/step - loss: 1195.1545 - mse: 1195.1545 - val_loss: 398.1250 - val_mse: 398.1250\n",
      "Epoch 117/250\n",
      "479/479 [==============================] - 1s 2ms/step - loss: 1159.9115 - mse: 1159.9115 - val_loss: 96.0137 - val_mse: 96.0137\n",
      "Epoch 118/250\n",
      "479/479 [==============================] - 1s 2ms/step - loss: 1175.6952 - mse: 1175.6952 - val_loss: 113.5511 - val_mse: 113.5511\n",
      "Epoch 119/250\n",
      "479/479 [==============================] - 1s 2ms/step - loss: 1224.0339 - mse: 1224.0339 - val_loss: 102.1197 - val_mse: 102.1197\n",
      "Epoch 120/250\n",
      "479/479 [==============================] - 1s 2ms/step - loss: 1179.2332 - mse: 1179.2332 - val_loss: 284.9440 - val_mse: 284.9440\n",
      "Epoch 121/250\n",
      "479/479 [==============================] - 1s 2ms/step - loss: 1193.2505 - mse: 1193.2505 - val_loss: 116.4315 - val_mse: 116.4315\n",
      "Epoch 122/250\n",
      "479/479 [==============================] - 1s 2ms/step - loss: 1150.1254 - mse: 1150.1254 - val_loss: 149.4421 - val_mse: 149.4421\n",
      "Epoch 123/250\n",
      "479/479 [==============================] - 1s 1ms/step - loss: 1161.9497 - mse: 1161.9497 - val_loss: 197.7724 - val_mse: 197.7724\n",
      "Epoch 124/250\n",
      "479/479 [==============================] - 1s 2ms/step - loss: 1127.4336 - mse: 1127.4336 - val_loss: 332.2938 - val_mse: 332.2938\n",
      "Epoch 125/250\n",
      "479/479 [==============================] - 1s 2ms/step - loss: 1168.0547 - mse: 1168.0546 - val_loss: 101.4140 - val_mse: 101.4140\n",
      "Epoch 126/250\n",
      "479/479 [==============================] - 1s 2ms/step - loss: 1185.4922 - mse: 1185.4922 - val_loss: 93.3058 - val_mse: 93.3058\n",
      "Epoch 127/250\n",
      "479/479 [==============================] - 1s 2ms/step - loss: 1196.5664 - mse: 1196.5664 - val_loss: 225.4123 - val_mse: 225.4123\n",
      "Epoch 128/250\n",
      "479/479 [==============================] - 1s 2ms/step - loss: 1213.0702 - mse: 1213.0702 - val_loss: 111.2630 - val_mse: 111.2630\n",
      "Epoch 129/250\n",
      "479/479 [==============================] - 1s 2ms/step - loss: 1100.2686 - mse: 1100.2686 - val_loss: 398.7282 - val_mse: 398.7282\n",
      "Epoch 130/250\n",
      "479/479 [==============================] - 1s 2ms/step - loss: 1176.0770 - mse: 1176.0770 - val_loss: 174.7861 - val_mse: 174.7861\n",
      "Epoch 131/250\n",
      "479/479 [==============================] - 1s 2ms/step - loss: 1168.3193 - mse: 1168.3193 - val_loss: 114.5305 - val_mse: 114.5305\n",
      "Epoch 132/250\n",
      "479/479 [==============================] - 1s 2ms/step - loss: 1149.7720 - mse: 1149.7720 - val_loss: 260.4104 - val_mse: 260.4104\n",
      "Epoch 133/250\n",
      "479/479 [==============================] - 1s 2ms/step - loss: 1154.1173 - mse: 1154.1173 - val_loss: 299.0797 - val_mse: 299.0797\n",
      "Epoch 134/250\n",
      "479/479 [==============================] - 1s 1ms/step - loss: 1138.9664 - mse: 1138.9664 - val_loss: 192.0389 - val_mse: 192.0389\n",
      "Epoch 135/250\n",
      "479/479 [==============================] - 1s 1ms/step - loss: 1160.6108 - mse: 1160.6108 - val_loss: 92.5367 - val_mse: 92.5367\n",
      "Epoch 136/250\n",
      "479/479 [==============================] - 1s 2ms/step - loss: 1104.4956 - mse: 1104.4956 - val_loss: 189.9913 - val_mse: 189.9913\n",
      "Epoch 137/250\n",
      "479/479 [==============================] - 1s 2ms/step - loss: 1064.3320 - mse: 1064.3320 - val_loss: 215.3256 - val_mse: 215.3256\n",
      "Epoch 138/250\n",
      "479/479 [==============================] - 1s 2ms/step - loss: 1164.9717 - mse: 1164.9717 - val_loss: 129.1326 - val_mse: 129.1326\n",
      "Epoch 139/250\n",
      "479/479 [==============================] - 1s 2ms/step - loss: 1102.3906 - mse: 1102.3906 - val_loss: 103.7680 - val_mse: 103.7680\n",
      "Epoch 140/250\n",
      "479/479 [==============================] - 1s 2ms/step - loss: 1165.5588 - mse: 1165.5588 - val_loss: 183.1820 - val_mse: 183.1820\n",
      "Epoch 141/250\n",
      "479/479 [==============================] - 1s 2ms/step - loss: 1086.0309 - mse: 1086.0309 - val_loss: 445.3197 - val_mse: 445.3197\n",
      "Epoch 142/250\n",
      "479/479 [==============================] - 1s 2ms/step - loss: 1112.3188 - mse: 1112.3188 - val_loss: 129.4441 - val_mse: 129.4441\n",
      "Epoch 143/250\n",
      "479/479 [==============================] - 1s 2ms/step - loss: 1110.9292 - mse: 1110.9292 - val_loss: 219.8287 - val_mse: 219.8287\n",
      "Epoch 144/250\n",
      "479/479 [==============================] - 1s 2ms/step - loss: 1154.5712 - mse: 1154.5712 - val_loss: 133.9448 - val_mse: 133.9448\n",
      "Epoch 145/250\n",
      "479/479 [==============================] - 1s 2ms/step - loss: 1133.4412 - mse: 1133.4412 - val_loss: 125.2006 - val_mse: 125.2006\n",
      "Epoch 146/250\n",
      "479/479 [==============================] - 1s 2ms/step - loss: 1188.5056 - mse: 1188.5056 - val_loss: 98.1978 - val_mse: 98.1978\n",
      "Epoch 147/250\n",
      "479/479 [==============================] - 1s 2ms/step - loss: 1148.1349 - mse: 1148.1349 - val_loss: 111.7955 - val_mse: 111.7955\n",
      "Epoch 148/250\n",
      "479/479 [==============================] - 1s 1ms/step - loss: 1129.8153 - mse: 1129.8153 - val_loss: 261.7366 - val_mse: 261.7366\n",
      "Epoch 149/250\n",
      "479/479 [==============================] - 1s 2ms/step - loss: 1076.8610 - mse: 1076.8610 - val_loss: 259.0185 - val_mse: 259.0185\n",
      "Epoch 150/250\n",
      "479/479 [==============================] - 1s 2ms/step - loss: 1121.3383 - mse: 1121.3383 - val_loss: 354.8184 - val_mse: 354.8184\n",
      "Epoch 151/250\n",
      "479/479 [==============================] - 1s 2ms/step - loss: 1080.4209 - mse: 1080.4209 - val_loss: 97.2864 - val_mse: 97.2864\n",
      "Epoch 152/250\n",
      "479/479 [==============================] - 1s 2ms/step - loss: 1118.1210 - mse: 1118.1210 - val_loss: 100.4801 - val_mse: 100.4801\n",
      "Epoch 153/250\n",
      "479/479 [==============================] - 2s 4ms/step - loss: 1173.1904 - mse: 1173.1904 - val_loss: 340.3184 - val_mse: 340.3184\n",
      "Epoch 154/250\n",
      "479/479 [==============================] - 1s 2ms/step - loss: 1077.7089 - mse: 1077.7089 - val_loss: 112.4902 - val_mse: 112.4902\n",
      "Epoch 155/250\n",
      "479/479 [==============================] - 1s 2ms/step - loss: 1134.9480 - mse: 1134.9480 - val_loss: 119.0632 - val_mse: 119.0632\n",
      "Epoch 156/250\n",
      "479/479 [==============================] - 1s 2ms/step - loss: 1127.1108 - mse: 1127.1108 - val_loss: 310.5847 - val_mse: 310.5847\n",
      "Epoch 157/250\n",
      "479/479 [==============================] - 1s 2ms/step - loss: 1096.5630 - mse: 1096.5630 - val_loss: 110.5697 - val_mse: 110.5697\n",
      "Epoch 158/250\n",
      "479/479 [==============================] - 1s 1ms/step - loss: 1111.4744 - mse: 1111.4744 - val_loss: 323.7534 - val_mse: 323.7534\n",
      "Epoch 159/250\n",
      "479/479 [==============================] - 1s 2ms/step - loss: 1116.1832 - mse: 1116.1832 - val_loss: 151.1402 - val_mse: 151.1402\n",
      "Epoch 160/250\n",
      "479/479 [==============================] - 1s 2ms/step - loss: 1048.7456 - mse: 1048.7456 - val_loss: 154.6767 - val_mse: 154.6767\n",
      "Epoch 161/250\n",
      "479/479 [==============================] - 1s 2ms/step - loss: 1097.8278 - mse: 1097.8278 - val_loss: 103.7409 - val_mse: 103.7409\n",
      "Epoch 162/250\n",
      "479/479 [==============================] - 1s 2ms/step - loss: 1077.6503 - mse: 1077.6503 - val_loss: 159.7334 - val_mse: 159.7334\n",
      "Epoch 163/250\n",
      "479/479 [==============================] - 1s 2ms/step - loss: 1087.1017 - mse: 1087.1017 - val_loss: 196.2111 - val_mse: 196.2111\n",
      "Epoch 164/250\n",
      "479/479 [==============================] - 1s 2ms/step - loss: 1136.2197 - mse: 1136.2197 - val_loss: 334.9773 - val_mse: 334.9773\n",
      "Epoch 165/250\n",
      "479/479 [==============================] - 1s 3ms/step - loss: 1081.7461 - mse: 1081.7461 - val_loss: 324.9988 - val_mse: 324.9988\n",
      "Epoch 166/250\n",
      "479/479 [==============================] - 1s 3ms/step - loss: 1081.3181 - mse: 1081.3181 - val_loss: 124.6861 - val_mse: 124.6861\n",
      "Epoch 167/250\n",
      "479/479 [==============================] - 1s 2ms/step - loss: 1042.0660 - mse: 1042.0660 - val_loss: 135.4628 - val_mse: 135.4628\n",
      "Epoch 168/250\n",
      "479/479 [==============================] - 1s 2ms/step - loss: 1177.5120 - mse: 1177.5117 - val_loss: 258.2303 - val_mse: 258.2303\n",
      "Epoch 169/250\n",
      "479/479 [==============================] - 1s 2ms/step - loss: 1136.1343 - mse: 1136.1343 - val_loss: 144.0316 - val_mse: 144.0316\n",
      "Epoch 170/250\n",
      "479/479 [==============================] - 2s 4ms/step - loss: 1082.0596 - mse: 1082.0596 - val_loss: 114.3786 - val_mse: 114.3786\n",
      "Epoch 171/250\n"
     ]
    },
    {
     "name": "stdout",
     "output_type": "stream",
     "text": [
      "479/479 [==============================] - 2s 3ms/step - loss: 1077.6357 - mse: 1077.6357 - val_loss: 137.9979 - val_mse: 137.9979\n",
      "Epoch 172/250\n",
      "479/479 [==============================] - 1s 2ms/step - loss: 1098.0200 - mse: 1098.0200 - val_loss: 117.7820 - val_mse: 117.7820\n",
      "Epoch 173/250\n",
      "479/479 [==============================] - 1s 2ms/step - loss: 1039.6514 - mse: 1039.6514 - val_loss: 245.7845 - val_mse: 245.7845\n",
      "Epoch 174/250\n",
      "479/479 [==============================] - 1s 2ms/step - loss: 1092.7736 - mse: 1092.7736 - val_loss: 127.3244 - val_mse: 127.3244\n",
      "Epoch 175/250\n",
      "479/479 [==============================] - 1s 2ms/step - loss: 1113.3984 - mse: 1113.3984 - val_loss: 167.8706 - val_mse: 167.8706\n",
      "Epoch 176/250\n",
      "479/479 [==============================] - 1s 2ms/step - loss: 1045.8333 - mse: 1045.8333 - val_loss: 104.6605 - val_mse: 104.6605\n",
      "Epoch 177/250\n",
      "479/479 [==============================] - 1s 3ms/step - loss: 1039.6652 - mse: 1039.6652 - val_loss: 175.9386 - val_mse: 175.9386\n",
      "Epoch 178/250\n",
      "479/479 [==============================] - 1s 3ms/step - loss: 1066.8064 - mse: 1066.8064 - val_loss: 251.4731 - val_mse: 251.4731\n",
      "Epoch 179/250\n",
      "479/479 [==============================] - 1s 2ms/step - loss: 1045.4097 - mse: 1045.4097 - val_loss: 120.6729 - val_mse: 120.6729\n",
      "Epoch 180/250\n",
      "479/479 [==============================] - 1s 2ms/step - loss: 1116.9022 - mse: 1116.9022 - val_loss: 264.5041 - val_mse: 264.5041\n",
      "Epoch 181/250\n",
      "479/479 [==============================] - 1s 2ms/step - loss: 1051.3187 - mse: 1051.3187 - val_loss: 202.7233 - val_mse: 202.7233\n",
      "Epoch 182/250\n",
      "479/479 [==============================] - 1s 2ms/step - loss: 1079.8992 - mse: 1079.8992 - val_loss: 176.4149 - val_mse: 176.4149\n",
      "Epoch 183/250\n",
      "479/479 [==============================] - 1s 2ms/step - loss: 1067.9905 - mse: 1067.9906 - val_loss: 114.5828 - val_mse: 114.5828\n",
      "Epoch 184/250\n",
      "479/479 [==============================] - 1s 2ms/step - loss: 1061.3246 - mse: 1061.3246 - val_loss: 133.5195 - val_mse: 133.5195\n",
      "Epoch 185/250\n",
      "479/479 [==============================] - 2s 4ms/step - loss: 1053.2664 - mse: 1053.2664 - val_loss: 203.9141 - val_mse: 203.9141\n",
      "Epoch 186/250\n",
      "479/479 [==============================] - 1s 2ms/step - loss: 1058.9619 - mse: 1058.9619 - val_loss: 142.2059 - val_mse: 142.2059\n",
      "Epoch 187/250\n",
      "479/479 [==============================] - 1s 2ms/step - loss: 1039.8717 - mse: 1039.8717 - val_loss: 400.9967 - val_mse: 400.9968\n",
      "Epoch 188/250\n",
      "479/479 [==============================] - 1s 2ms/step - loss: 1082.6085 - mse: 1082.6085 - val_loss: 308.6694 - val_mse: 308.6694\n",
      "Epoch 189/250\n",
      "479/479 [==============================] - 1s 2ms/step - loss: 1060.4567 - mse: 1060.4567 - val_loss: 155.4241 - val_mse: 155.4241\n",
      "Epoch 190/250\n",
      "479/479 [==============================] - 1s 2ms/step - loss: 1034.3596 - mse: 1034.3596 - val_loss: 124.0689 - val_mse: 124.0689\n",
      "Epoch 191/250\n",
      "479/479 [==============================] - 1s 2ms/step - loss: 1037.9211 - mse: 1037.9211 - val_loss: 124.7699 - val_mse: 124.7699\n",
      "Epoch 192/250\n",
      "479/479 [==============================] - 1s 1ms/step - loss: 1045.2467 - mse: 1045.2467 - val_loss: 118.3483 - val_mse: 118.3483\n",
      "Epoch 193/250\n",
      "479/479 [==============================] - 1s 1ms/step - loss: 1060.6057 - mse: 1060.6057 - val_loss: 231.6096 - val_mse: 231.6096\n",
      "Epoch 194/250\n",
      "479/479 [==============================] - 1s 2ms/step - loss: 1043.2128 - mse: 1043.2128 - val_loss: 252.7932 - val_mse: 252.7932\n",
      "Epoch 195/250\n",
      "479/479 [==============================] - 1s 1ms/step - loss: 1043.1173 - mse: 1043.1173 - val_loss: 280.0591 - val_mse: 280.0591\n",
      "Epoch 196/250\n",
      "479/479 [==============================] - 1s 2ms/step - loss: 1017.9624 - mse: 1017.9624 - val_loss: 136.3872 - val_mse: 136.3872\n",
      "Epoch 197/250\n",
      "479/479 [==============================] - 1s 2ms/step - loss: 1056.3030 - mse: 1056.3030 - val_loss: 187.8532 - val_mse: 187.8532\n",
      "Epoch 198/250\n",
      "479/479 [==============================] - 1s 2ms/step - loss: 1049.6309 - mse: 1049.6307 - val_loss: 113.8604 - val_mse: 113.8604\n",
      "Epoch 199/250\n",
      "479/479 [==============================] - 1s 2ms/step - loss: 1004.1165 - mse: 1004.1165 - val_loss: 103.2727 - val_mse: 103.2727\n",
      "Epoch 200/250\n",
      "479/479 [==============================] - 1s 2ms/step - loss: 1047.3774 - mse: 1047.3774 - val_loss: 142.3649 - val_mse: 142.3649\n",
      "Epoch 201/250\n",
      "479/479 [==============================] - 1s 2ms/step - loss: 1030.0846 - mse: 1030.0846 - val_loss: 165.0766 - val_mse: 165.0766\n",
      "Epoch 202/250\n",
      "479/479 [==============================] - 1s 2ms/step - loss: 1020.9849 - mse: 1020.9849 - val_loss: 305.0658 - val_mse: 305.0658\n",
      "Epoch 203/250\n",
      "479/479 [==============================] - 1s 2ms/step - loss: 1015.5648 - mse: 1015.5648 - val_loss: 136.5814 - val_mse: 136.5814\n",
      "Epoch 204/250\n",
      "479/479 [==============================] - 1s 2ms/step - loss: 1029.3958 - mse: 1029.3958 - val_loss: 149.4422 - val_mse: 149.4422\n",
      "Epoch 205/250\n",
      "479/479 [==============================] - 1s 2ms/step - loss: 992.4948 - mse: 992.4948 - val_loss: 131.8141 - val_mse: 131.8141\n",
      "Epoch 206/250\n",
      "479/479 [==============================] - 1s 2ms/step - loss: 1002.5041 - mse: 1002.5041 - val_loss: 213.1194 - val_mse: 213.1194\n",
      "Epoch 207/250\n",
      "479/479 [==============================] - 1s 2ms/step - loss: 991.4125 - mse: 991.4125 - val_loss: 116.3544 - val_mse: 116.3544\n",
      "Epoch 208/250\n",
      "479/479 [==============================] - 1s 2ms/step - loss: 1042.0375 - mse: 1042.0375 - val_loss: 317.2824 - val_mse: 317.2824\n",
      "Epoch 209/250\n",
      "479/479 [==============================] - 1s 2ms/step - loss: 1016.2437 - mse: 1016.2437 - val_loss: 104.9458 - val_mse: 104.9458\n",
      "Epoch 210/250\n",
      "479/479 [==============================] - 1s 2ms/step - loss: 1063.6786 - mse: 1063.6786 - val_loss: 140.8616 - val_mse: 140.8616\n",
      "Epoch 211/250\n",
      "479/479 [==============================] - 1s 2ms/step - loss: 1051.1094 - mse: 1051.1094 - val_loss: 252.6126 - val_mse: 252.6126\n",
      "Epoch 212/250\n",
      "479/479 [==============================] - 1s 2ms/step - loss: 971.4935 - mse: 971.4935 - val_loss: 164.0095 - val_mse: 164.0095\n",
      "Epoch 213/250\n",
      "479/479 [==============================] - 1s 2ms/step - loss: 995.0750 - mse: 995.0748 - val_loss: 135.5203 - val_mse: 135.5203\n",
      "Epoch 214/250\n",
      "479/479 [==============================] - 1s 1ms/step - loss: 970.6059 - mse: 970.6059 - val_loss: 436.8179 - val_mse: 436.8179\n",
      "Epoch 215/250\n",
      "479/479 [==============================] - 1s 2ms/step - loss: 1050.7874 - mse: 1050.7874 - val_loss: 175.3964 - val_mse: 175.3964\n",
      "Epoch 216/250\n",
      "479/479 [==============================] - 2s 4ms/step - loss: 1006.0791 - mse: 1006.0791 - val_loss: 122.5328 - val_mse: 122.5328\n",
      "Epoch 217/250\n",
      "479/479 [==============================] - 1s 3ms/step - loss: 1034.2689 - mse: 1034.2689 - val_loss: 103.1817 - val_mse: 103.1817\n",
      "Epoch 218/250\n",
      "479/479 [==============================] - 1s 3ms/step - loss: 1005.4348 - mse: 1005.4348 - val_loss: 416.8061 - val_mse: 416.8061\n",
      "Epoch 219/250\n",
      "479/479 [==============================] - 1s 3ms/step - loss: 956.2036 - mse: 956.2036 - val_loss: 184.6354 - val_mse: 184.6354\n",
      "Epoch 220/250\n",
      "479/479 [==============================] - 1s 2ms/step - loss: 981.4911 - mse: 981.4912 - val_loss: 96.2113 - val_mse: 96.2113\n",
      "Epoch 221/250\n",
      "479/479 [==============================] - 1s 2ms/step - loss: 1000.4619 - mse: 1000.4619 - val_loss: 151.1207 - val_mse: 151.1207\n",
      "Epoch 222/250\n",
      "479/479 [==============================] - 1s 1ms/step - loss: 1005.7430 - mse: 1005.7430 - val_loss: 121.1182 - val_mse: 121.1182\n",
      "Epoch 223/250\n",
      "479/479 [==============================] - 1s 2ms/step - loss: 998.4039 - mse: 998.4039 - val_loss: 169.5210 - val_mse: 169.5210\n",
      "Epoch 224/250\n",
      "479/479 [==============================] - 1s 1ms/step - loss: 995.4581 - mse: 995.4581 - val_loss: 203.8170 - val_mse: 203.8170\n",
      "Epoch 225/250\n",
      "479/479 [==============================] - 1s 2ms/step - loss: 962.4125 - mse: 962.4126 - val_loss: 133.6583 - val_mse: 133.6583\n",
      "Epoch 226/250\n",
      "479/479 [==============================] - 1s 2ms/step - loss: 1021.6288 - mse: 1021.6288 - val_loss: 155.1162 - val_mse: 155.1162\n",
      "Epoch 227/250\n",
      "479/479 [==============================] - 1s 2ms/step - loss: 959.1768 - mse: 959.1768 - val_loss: 163.4823 - val_mse: 163.4823\n"
     ]
    },
    {
     "name": "stdout",
     "output_type": "stream",
     "text": [
      "Epoch 228/250\n",
      "479/479 [==============================] - 1s 2ms/step - loss: 988.5616 - mse: 988.5616 - val_loss: 114.9163 - val_mse: 114.9163\n",
      "Epoch 229/250\n",
      "479/479 [==============================] - 1s 2ms/step - loss: 1021.8429 - mse: 1021.8429 - val_loss: 128.7088 - val_mse: 128.7088\n",
      "Epoch 230/250\n",
      "479/479 [==============================] - 1s 2ms/step - loss: 977.8350 - mse: 977.8350 - val_loss: 110.2903 - val_mse: 110.2903\n",
      "Epoch 231/250\n",
      "479/479 [==============================] - 1s 2ms/step - loss: 966.2842 - mse: 966.2842 - val_loss: 98.5537 - val_mse: 98.5537\n",
      "Epoch 232/250\n",
      "479/479 [==============================] - 1s 2ms/step - loss: 962.6583 - mse: 962.6583 - val_loss: 152.2343 - val_mse: 152.2343\n",
      "Epoch 233/250\n",
      "479/479 [==============================] - 1s 2ms/step - loss: 982.1213 - mse: 982.1213 - val_loss: 129.6483 - val_mse: 129.6483\n",
      "Epoch 234/250\n",
      "479/479 [==============================] - 1s 2ms/step - loss: 995.0164 - mse: 995.0164 - val_loss: 241.0820 - val_mse: 241.0820\n",
      "Epoch 235/250\n",
      "479/479 [==============================] - 1s 2ms/step - loss: 954.9538 - mse: 954.9538 - val_loss: 306.6108 - val_mse: 306.6108\n",
      "Epoch 236/250\n",
      "479/479 [==============================] - 1s 2ms/step - loss: 958.5233 - mse: 958.5233 - val_loss: 155.6929 - val_mse: 155.6929\n",
      "Epoch 237/250\n",
      "479/479 [==============================] - 1s 2ms/step - loss: 991.6963 - mse: 991.6962 - val_loss: 123.0656 - val_mse: 123.0656\n",
      "Epoch 238/250\n",
      "479/479 [==============================] - 1s 1ms/step - loss: 975.0892 - mse: 975.0892 - val_loss: 196.5772 - val_mse: 196.5772\n",
      "Epoch 239/250\n",
      "479/479 [==============================] - 1s 2ms/step - loss: 966.9318 - mse: 966.9318 - val_loss: 150.7500 - val_mse: 150.7500\n",
      "Epoch 240/250\n",
      "479/479 [==============================] - 1s 2ms/step - loss: 957.0603 - mse: 957.0602 - val_loss: 145.7401 - val_mse: 145.7401\n",
      "Epoch 241/250\n",
      "479/479 [==============================] - 1s 2ms/step - loss: 944.6650 - mse: 944.6650 - val_loss: 178.3300 - val_mse: 178.3300\n",
      "Epoch 242/250\n",
      "479/479 [==============================] - 1s 2ms/step - loss: 967.7598 - mse: 967.7598 - val_loss: 152.9198 - val_mse: 152.9198\n",
      "Epoch 243/250\n",
      "479/479 [==============================] - 1s 2ms/step - loss: 987.2243 - mse: 987.2243 - val_loss: 233.5186 - val_mse: 233.5186\n",
      "Epoch 244/250\n",
      "479/479 [==============================] - 2s 4ms/step - loss: 956.6108 - mse: 956.6108 - val_loss: 138.2458 - val_mse: 138.2458\n",
      "Epoch 245/250\n",
      "479/479 [==============================] - 2s 4ms/step - loss: 965.3614 - mse: 965.3614 - val_loss: 157.2973 - val_mse: 157.2973\n",
      "Epoch 246/250\n",
      "479/479 [==============================] - 1s 2ms/step - loss: 957.3232 - mse: 957.3232 - val_loss: 192.3898 - val_mse: 192.3898\n",
      "Epoch 247/250\n",
      "479/479 [==============================] - 1s 1ms/step - loss: 968.0388 - mse: 968.0388 - val_loss: 147.8435 - val_mse: 147.8435\n",
      "Epoch 248/250\n",
      "479/479 [==============================] - 1s 2ms/step - loss: 968.7018 - mse: 968.7018 - val_loss: 442.0361 - val_mse: 442.0361\n",
      "Epoch 249/250\n",
      "479/479 [==============================] - 1s 1ms/step - loss: 992.0895 - mse: 992.0895 - val_loss: 224.2882 - val_mse: 224.2882\n",
      "Epoch 250/250\n",
      "479/479 [==============================] - 1s 1ms/step - loss: 931.8882 - mse: 931.8882 - val_loss: 120.7382 - val_mse: 120.7382\n"
     ]
    }
   ],
   "source": [
    "model_training=model.fit( x=X_train,y=y_train,batch_size=10,epochs=250, validation_data=(X_test, y_test))"
   ]
  },
  {
   "cell_type": "markdown",
   "id": "a1fe7dfc",
   "metadata": {},
   "source": [
    "## 5. Model Performance"
   ]
  },
  {
   "cell_type": "markdown",
   "id": "366d4eff",
   "metadata": {},
   "source": [
    "### Model Mean Squared Error Performance"
   ]
  },
  {
   "cell_type": "code",
   "execution_count": 19,
   "id": "d1324e98",
   "metadata": {},
   "outputs": [
    {
     "data": {
      "image/png": "[encoded data removed]",
      "text/plain": [
       "<Figure size 1400x600 with 1 Axes>"
      ]
     },
     "metadata": {},
     "output_type": "display_data"
    }
   ],
   "source": [
    "plt.figure(figsize=(14,6))\n",
    "plt.plot(model_training.history['mse'], label='Train Performance')\n",
    "plt.plot(model_training.history['val_mse'], label='Test Performance')\n",
    "\n",
    "plt.xlabel('Epocks')\n",
    "plt.ylabel('MSE')\n",
    "plt.show()"
   ]
  },
  {
   "cell_type": "markdown",
   "id": "0a679c20",
   "metadata": {},
   "source": [
    "### Model Loss Performance "
   ]
  },
  {
   "cell_type": "code",
   "execution_count": 20,
   "id": "90b82cd3",
   "metadata": {},
   "outputs": [
    {
     "data": {
      "image/png": "[encoded data removed]",
      "text/plain": [
       "<Figure size 1400x600 with 1 Axes>"
      ]
     },
     "metadata": {},
     "output_type": "display_data"
    }
   ],
   "source": [
    "plt.figure(figsize=(14,6))\n",
    "plt.plot(model_training.history['loss'], label='Train Loss')\n",
    "plt.plot(model_training.history['val_loss'], label='Test Loss')\n",
    "\n",
    "plt.xlabel('Epocks')\n",
    "plt.ylabel('Loss')\n",
    "plt.show()"
   ]
  },
  {
   "cell_type": "markdown",
   "id": "1ad1d799",
   "metadata": {},
   "source": [
    "## 6. Model Evaluation"
   ]
  },
  {
   "cell_type": "code",
   "execution_count": 21,
   "id": "bda04a23",
   "metadata": {},
   "outputs": [
    {
     "name": "stdout",
     "output_type": "stream",
     "text": [
      "150/150 [==============================] - 0s 1ms/step - loss: 113.3319 - mse: 113.3319\n"
     ]
    },
    {
     "data": {
      "text/plain": [
       "[113.33192443847656, 113.33192443847656]"
      ]
     },
     "execution_count": 21,
     "metadata": {},
     "output_type": "execute_result"
    }
   ],
   "source": [
    "model.evaluate(x=X_train, y=y_train)"
   ]
  },
  {
   "cell_type": "code",
   "execution_count": 22,
   "id": "14e41bf1",
   "metadata": {},
   "outputs": [
    {
     "name": "stdout",
     "output_type": "stream",
     "text": [
      "38/38 [==============================] - 0s 820us/step - loss: 120.7382 - mse: 120.7382\n"
     ]
    },
    {
     "data": {
      "text/plain": [
       "[120.73818969726562, 120.73818969726562]"
      ]
     },
     "execution_count": 22,
     "metadata": {},
     "output_type": "execute_result"
    }
   ],
   "source": [
    "model.evaluate(x=X_test, y=y_test)"
   ]
  },
  {
   "cell_type": "markdown",
   "id": "1fba0c22",
   "metadata": {},
   "source": [
    "## 7. Model Prediction"
   ]
  },
  {
   "cell_type": "code",
   "execution_count": 23,
   "id": "a56c4b61",
   "metadata": {},
   "outputs": [
    {
     "name": "stdout",
     "output_type": "stream",
     "text": [
      "38/38 [==============================] - 0s 1ms/step\n"
     ]
    }
   ],
   "source": [
    "y_pred=model.predict(X_test)"
   ]
  },
  {
   "cell_type": "code",
   "execution_count": 24,
   "id": "eb090285",
   "metadata": {},
   "outputs": [
    {
     "data": {
      "text/html": [
       "<div>\n",
       "<style scoped>\n",
       "    .dataframe tbody tr th:only-of-type {\n",
       "        vertical-align: middle;\n",
       "    }\n",
       "\n",
       "    .dataframe tbody tr th {\n",
       "        vertical-align: top;\n",
       "    }\n",
       "\n",
       "    .dataframe thead th {\n",
       "        text-align: right;\n",
       "    }\n",
       "</style>\n",
       "<table border=\"1\" class=\"dataframe\">\n",
       "  <thead>\n",
       "    <tr style=\"text-align: right;\">\n",
       "      <th></th>\n",
       "      <th>co2_emissions</th>\n",
       "    </tr>\n",
       "  </thead>\n",
       "  <tbody>\n",
       "    <tr>\n",
       "      <th>5891</th>\n",
       "      <td>167.0</td>\n",
       "    </tr>\n",
       "  </tbody>\n",
       "</table>\n",
       "</div>"
      ],
      "text/plain": [
       "      co2_emissions\n",
       "5891          167.0"
      ]
     },
     "execution_count": 24,
     "metadata": {},
     "output_type": "execute_result"
    }
   ],
   "source": [
    "y_test.iloc[[3]]"
   ]
  },
  {
   "cell_type": "code",
   "execution_count": 25,
   "id": "486da90e",
   "metadata": {},
   "outputs": [
    {
     "name": "stdout",
     "output_type": "stream",
     "text": [
      "The predicted model for index no 3 for test data is [179.07483]\n"
     ]
    }
   ],
   "source": [
    "print('The predicted model for index no 3 for test data is',y_pred[3])"
   ]
  },
  {
   "cell_type": "markdown",
   "id": "e9d0e5ec",
   "metadata": {},
   "source": [
    "## 8. Model Deployment"
   ]
  },
  {
   "cell_type": "code",
   "execution_count": 26,
   "id": "ed372b66",
   "metadata": {},
   "outputs": [],
   "source": [
    "# Deploying the intelligence\n",
    "model.save('ANN_Model.h5')"
   ]
  },
  {
   "cell_type": "code",
   "execution_count": 27,
   "id": "0960dbc6",
   "metadata": {},
   "outputs": [],
   "source": [
    "# Loading the pre-trained model\n",
    "loaded_model=load_model('ANN_Model.h5')"
   ]
  },
  {
   "cell_type": "code",
   "execution_count": 28,
   "id": "6437d445",
   "metadata": {},
   "outputs": [
    {
     "name": "stdout",
     "output_type": "stream",
     "text": [
      "38/38 [==============================] - 0s 1ms/step\n"
     ]
    }
   ],
   "source": [
    "y_pred_load=loaded_model.predict(X_test)"
   ]
  },
  {
   "cell_type": "code",
   "execution_count": 29,
   "id": "0c8917a6",
   "metadata": {},
   "outputs": [
    {
     "data": {
      "text/html": [
       "<div>\n",
       "<style scoped>\n",
       "    .dataframe tbody tr th:only-of-type {\n",
       "        vertical-align: middle;\n",
       "    }\n",
       "\n",
       "    .dataframe tbody tr th {\n",
       "        vertical-align: top;\n",
       "    }\n",
       "\n",
       "    .dataframe thead th {\n",
       "        text-align: right;\n",
       "    }\n",
       "</style>\n",
       "<table border=\"1\" class=\"dataframe\">\n",
       "  <thead>\n",
       "    <tr style=\"text-align: right;\">\n",
       "      <th></th>\n",
       "      <th>co2_emissions</th>\n",
       "    </tr>\n",
       "  </thead>\n",
       "  <tbody>\n",
       "    <tr>\n",
       "      <th>4186</th>\n",
       "      <td>344.0</td>\n",
       "    </tr>\n",
       "  </tbody>\n",
       "</table>\n",
       "</div>"
      ],
      "text/plain": [
       "      co2_emissions\n",
       "4186          344.0"
      ]
     },
     "execution_count": 29,
     "metadata": {},
     "output_type": "execute_result"
    }
   ],
   "source": [
    "y_test.iloc[[5]]"
   ]
  },
  {
   "cell_type": "code",
   "execution_count": 30,
   "id": "38fc96af",
   "metadata": {},
   "outputs": [
    {
     "name": "stdout",
     "output_type": "stream",
     "text": [
      "The predicted model for index no 5 for test data is [312.9535]\n"
     ]
    }
   ],
   "source": [
    "print('The predicted model for index no 5 for test data is',y_pred_load[5])"
   ]
  },
  {
   "cell_type": "markdown",
   "id": "b87bc525",
   "metadata": {},
   "source": [
    "## 9. User Interface Platform"
   ]
  },
  {
   "cell_type": "code",
   "execution_count": 31,
   "id": "fde3e967",
   "metadata": {},
   "outputs": [
    {
     "data": {
      "text/html": [
       "<div>\n",
       "<style scoped>\n",
       "    .dataframe tbody tr th:only-of-type {\n",
       "        vertical-align: middle;\n",
       "    }\n",
       "\n",
       "    .dataframe tbody tr th {\n",
       "        vertical-align: top;\n",
       "    }\n",
       "\n",
       "    .dataframe thead th {\n",
       "        text-align: right;\n",
       "    }\n",
       "</style>\n",
       "<table border=\"1\" class=\"dataframe\">\n",
       "  <thead>\n",
       "    <tr style=\"text-align: right;\">\n",
       "      <th></th>\n",
       "      <th>vehicle_class</th>\n",
       "      <th>engine_size</th>\n",
       "      <th>cylinders</th>\n",
       "      <th>transmission</th>\n",
       "      <th>fuel_type</th>\n",
       "      <th>fuel_consumption_comb</th>\n",
       "      <th>co2_emissions</th>\n",
       "    </tr>\n",
       "  </thead>\n",
       "  <tbody>\n",
       "    <tr>\n",
       "      <th>0</th>\n",
       "      <td>compact</td>\n",
       "      <td>2.0</td>\n",
       "      <td>4</td>\n",
       "      <td>Automatic with select shift</td>\n",
       "      <td>Premium gasoline</td>\n",
       "      <td>8.5</td>\n",
       "      <td>196.0</td>\n",
       "    </tr>\n",
       "    <tr>\n",
       "      <th>1</th>\n",
       "      <td>compact</td>\n",
       "      <td>2.4</td>\n",
       "      <td>4</td>\n",
       "      <td>Manual</td>\n",
       "      <td>Premium gasoline</td>\n",
       "      <td>9.6</td>\n",
       "      <td>221.0</td>\n",
       "    </tr>\n",
       "    <tr>\n",
       "      <th>2</th>\n",
       "      <td>compact</td>\n",
       "      <td>1.5</td>\n",
       "      <td>4</td>\n",
       "      <td>Continuously variable</td>\n",
       "      <td>Premium gasoline</td>\n",
       "      <td>5.9</td>\n",
       "      <td>136.0</td>\n",
       "    </tr>\n",
       "    <tr>\n",
       "      <th>3</th>\n",
       "      <td>suv - small</td>\n",
       "      <td>3.5</td>\n",
       "      <td>6</td>\n",
       "      <td>Automatic with select shift</td>\n",
       "      <td>Premium gasoline</td>\n",
       "      <td>11.1</td>\n",
       "      <td>255.0</td>\n",
       "    </tr>\n",
       "    <tr>\n",
       "      <th>4</th>\n",
       "      <td>suv - small</td>\n",
       "      <td>3.5</td>\n",
       "      <td>6</td>\n",
       "      <td>Automatic with select shift</td>\n",
       "      <td>Premium gasoline</td>\n",
       "      <td>10.6</td>\n",
       "      <td>244.0</td>\n",
       "    </tr>\n",
       "  </tbody>\n",
       "</table>\n",
       "</div>"
      ],
      "text/plain": [
       "  vehicle_class  engine_size  cylinders                 transmission  \\\n",
       "0       compact          2.0          4  Automatic with select shift   \n",
       "1       compact          2.4          4                       Manual   \n",
       "2       compact          1.5          4        Continuously variable   \n",
       "3   suv - small          3.5          6  Automatic with select shift   \n",
       "4   suv - small          3.5          6  Automatic with select shift   \n",
       "\n",
       "          fuel_type  fuel_consumption_comb  co2_emissions  \n",
       "0  Premium gasoline                    8.5          196.0  \n",
       "1  Premium gasoline                    9.6          221.0  \n",
       "2  Premium gasoline                    5.9          136.0  \n",
       "3  Premium gasoline                   11.1          255.0  \n",
       "4  Premium gasoline                   10.6          244.0  "
      ]
     },
     "execution_count": 31,
     "metadata": {},
     "output_type": "execute_result"
    }
   ],
   "source": [
    "df=pd.read_csv('Final_Emission_Data.csv')\n",
    "df.head()"
   ]
  },
  {
   "cell_type": "code",
   "execution_count": 32,
   "id": "19c24c90",
   "metadata": {},
   "outputs": [
    {
     "name": "stdout",
     "output_type": "stream",
     "text": [
      "Enter vehicle class :compact\n",
      "Enter engine size :2.4\n",
      "Enter Number of cylinders :4\n",
      "Enter Transmission type :Manual\n",
      "Enter Fuel type :Premium gasoline\n",
      "Enter the combined fuel consumption rating (55% city, 45% highway), in L/100 km :9.6\n",
      "1/1 [==============================] - 0s 18ms/step\n",
      "The Co2 emmitted from your car is [[226.76237]] in grams per kilometer.\n"
     ]
    }
   ],
   "source": [
    "i1 = input(\"Enter vehicle class :\")\n",
    "i2 = float(input(\"Enter engine size :\"))\n",
    "i3 = float(input(\"Enter Number of cylinders :\"))\n",
    "i4 = input(\"Enter Transmission type :\")\n",
    "i5 = input(\"Enter Fuel type :\")\n",
    "i6 = float(input(\"Enter the combined fuel consumption rating (55% city, 45% highway), in L/100 km :\"))\n",
    "\n",
    "input_data = pd.DataFrame({'vehicle_class':i1,'engine_size':i2,'cylinders':i3,\n",
    "                           'transmission':i4,'fuel_type':i5,\n",
    "                           'fuel_consumption_comb(l/100km)':i6},index=[1])\n",
    "\n",
    "input_data['vehicle_class']  =input_data['vehicle_class'].map({'compact':0.0,'full-size':1.0,'mid-size':2.0,'minicompact':3.0,'minivan':4.0,\n",
    "                                                               'pickup truck - small':5.0,'pickup truck - standard':6.0,'special purpose vehicle':7.0,\n",
    "                                                               'station wagon - mid-size':8.0,'station wagon - small':9.0,'subcompact':10.0,\n",
    "                                                               'suv - small':11.0, 'suv - standard':12.0,'two-seater':13.0,'van - cargo':14.0,\n",
    "                                                               'van - passenger':15.0})\n",
    "input_data['transmission']  =input_data['transmission'].map({'Automatic':0.0,'Automated manual':1.0,'Automatic with select shift':2.0,'Continuously variable':3.0,'Manual':4.0})\n",
    "input_data['fuel_type']  =input_data['fuel_type'].map({'Diesel':0.0,'Ethanol (E85)':1.0,'Natural gas':2.0,'Premium gasoline':3.0,'Regular gasoline':4.0})\n",
    "\n",
    "pred =loaded_model.predict(input_data)\n",
    "print(\"The Co2 emmitted from your car is {} in grams per kilometer.\".format(pred))"
   ]
  },
  {
   "cell_type": "code",
   "execution_count": null,
   "id": "08be65fd",
   "metadata": {},
   "outputs": [],
   "source": []
  }
 ],
 "metadata": {
  "kernelspec": {
   "display_name": "Python 3 (ipykernel)",
   "language": "python",
   "name": "python3"
  },
  "language_info": {
   "codemirror_mode": {
    "name": "ipython",
    "version": 3
   },
   "file_extension": ".py",
   "mimetype": "text/x-python",
   "name": "python",
   "nbconvert_exporter": "python",
   "pygments_lexer": "ipython3",
   "version": "3.9.13"
  }
 },
 "nbformat": 4,
 "nbformat_minor": 5
}
